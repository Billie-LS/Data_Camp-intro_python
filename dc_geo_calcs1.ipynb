{
 "cells": [
  {
   "cell_type": "code",
   "execution_count": null,
   "id": "3b9fcbe7-fed8-47ed-8b17-ad57a0d81f7f",
   "metadata": {},
   "outputs": [],
   "source": [
    "import math  # Import the math module for using pi"
   ]
  },
  {
   "cell_type": "markdown",
   "id": "4a9e9aa4-bf0f-45b1-b20a-fee29ec49fdd",
   "metadata": {},
   "source": [
    "1. Define function for calculating the area of a rectangle.\n",
    "   - Input: length, width\n",
    "   - Output: area"
   ]
  },
  {
   "cell_type": "code",
   "execution_count": 1,
   "id": "55c520ff-b57e-48da-9f8e-b030451c2c9b",
   "metadata": {
    "tags": []
   },
   "outputs": [
    {
     "name": "stdin",
     "output_type": "stream",
     "text": [
      "Enter the length of the rectangle:  1\n",
      "Enter the width of the rectangle:  2\n"
     ]
    },
    {
     "name": "stdout",
     "output_type": "stream",
     "text": [
      "The area of the rectangle is: 2.0\n"
     ]
    }
   ],
   "source": [
    "# Define a user-defined function for calculating the area of a rectangle\n",
    "def calculate_rectangle_area(length, width):\n",
    "    area = length * width\n",
    "    return area\n",
    "\n",
    "# Example usage of the function\n",
    "length = float(input(\"Enter the length of the rectangle: \"))\n",
    "width = float(input(\"Enter the width of the rectangle: \"))\n",
    "area = calculate_rectangle_area(length, width)\n",
    "print(\"The area of the rectangle is:\", area)"
   ]
  },
  {
   "cell_type": "markdown",
   "id": "55c394df-a20b-4b92-a1ce-ce8813cd0a87",
   "metadata": {},
   "source": [
    "2. Define function for calculating the area of a triangle.\n",
    "   - Input: base, height\n",
    "   - Output: area"
   ]
  },
  {
   "cell_type": "code",
   "execution_count": 2,
   "id": "4d739508-c2ce-48b2-b2e6-ab1a7bffe6ed",
   "metadata": {
    "tags": []
   },
   "outputs": [
    {
     "name": "stdin",
     "output_type": "stream",
     "text": [
      "Enter the base of the triangle:  3\n",
      "Enter the height of the triangle:  2\n"
     ]
    },
    {
     "name": "stdout",
     "output_type": "stream",
     "text": [
      "The area of the triangle is: 3.0\n"
     ]
    }
   ],
   "source": [
    "# Define a user-defined function for calculating the area of a triangle\n",
    "def calculate_triangle_area(base, height):\n",
    "    area = 0.5 * base * height\n",
    "    return area\n",
    "\n",
    "# Example usage of the function\n",
    "base = float(input(\"Enter the base of the triangle: \"))\n",
    "height = float(input(\"Enter the height of the triangle: \"))\n",
    "area = calculate_triangle_area(base, height)\n",
    "print(\"The area of the triangle is:\", area)\n"
   ]
  },
  {
   "cell_type": "markdown",
   "id": "4e125558-a233-4748-bcea-e93f28b857e3",
   "metadata": {},
   "source": [
    "3. Define function for calculating the area of a circle.\n",
    "   - Input: radius\n",
    "   - Output: area"
   ]
  },
  {
   "cell_type": "code",
   "execution_count": null,
   "id": "e6d6b060-c4e6-44c3-bbfb-41179fda5ba1",
   "metadata": {},
   "outputs": [],
   "source": [
    "# Define a user-defined function for calculating the area of a circle\n",
    "def calculate_circle_area(radius):\n",
    "    area = math.pi * (radius ** 2)\n",
    "    return area\n",
    "\n",
    "# Example usage of the function\n",
    "radius = float(input(\"Enter the radius of the circle: \"))\n",
    "area = calculate_circle_area(radius)\n",
    "print(\"The area of the circle is:\", area)"
   ]
  },
  {
   "cell_type": "markdown",
   "id": "8123856d-7e83-4dcf-ac5f-e281afec04ef",
   "metadata": {},
   "source": [
    "4. Display a menu to the user to choose a shape (rectangle, triangle, or circle).\n",
    "5. Get the user's choice of shape.\n",
    "    6. rectangle\n",
    "    7. triangle\n",
    "    8. circle"
   ]
  },
  {
   "cell_type": "code",
   "execution_count": 3,
   "id": "6dfd058f-1f76-461a-bc27-4e80d1ff6b4d",
   "metadata": {
    "tags": []
   },
   "outputs": [
    {
     "name": "stdout",
     "output_type": "stream",
     "text": [
      "Shape Area Calculator\n",
      "1. Rectangle\n",
      "2. Triangle\n",
      "3. Circle\n"
     ]
    },
    {
     "name": "stdin",
     "output_type": "stream",
     "text": [
      "Enter the number of the shape you want to calculate the area for:  1\n",
      "Enter the length of the rectangle:  5\n",
      "Enter the width of the rectangle:  2\n"
     ]
    },
    {
     "name": "stdout",
     "output_type": "stream",
     "text": [
      "The area of the rectangle is: 10.0\n"
     ]
    }
   ],
   "source": [
    "# Display a menu to the user\n",
    "print(\"Shape Area Calculator\")\n",
    "print(\"1. Rectangle\")\n",
    "print(\"2. Triangle\")\n",
    "print(\"3. Circle\")\n",
    "\n",
    "# Get user's choice\n",
    "choice = input(\"Enter the number of the shape you want to calculate the area for: \")\n",
    "\n",
    "# Based on the user's choice, you can call the respective function\n",
    "if choice == '1':\n",
    "    # Calculate the area of a rectangle\n",
    "    length = float(input(\"Enter the length of the rectangle: \"))\n",
    "    width = float(input(\"Enter the width of the rectangle: \"))\n",
    "    area = calculate_rectangle_area(length, width)\n",
    "    print(\"The area of the rectangle is:\", area)\n",
    "elif choice == '2':\n",
    "    # Calculate the area of a triangle\n",
    "    base = float(input(\"Enter the base of the triangle: \"))\n",
    "    height = float(input(\"Enter the height of the triangle: \"))\n",
    "    area = calculate_triangle_area(base, height)\n",
    "    print(\"The area of the triangle is:\", area)\n",
    "elif choice == '3':\n",
    "    # Calculate the area of a circle\n",
    "    radius = float(input(\"Enter the radius of the circle: \"))\n",
    "    area = calculate_circle_area(radius)\n",
    "    print(\"The area of the circle is:\", area)\n",
    "else:\n",
    "    print(\"Invalid choice. Please select 1, 2, or 3.\")"
   ]
  },
  {
   "cell_type": "markdown",
   "id": "a6e9f98a-b3a5-4fcf-b679-3b08fce67577",
   "metadata": {},
   "source": [
    "    4. Display a menu to the user to choose a shape (rectangle, triangle, or circle).\n",
    "    5. Get the user's choice of shape.\n",
    "    6. rectangle\n",
    "    7. triangle\n",
    "    8. circle\n",
    "9. Ask the user if they want to calculate the area for another shape.\n",
    "   - If yes, repeat from step 4.\n",
    "   - If no, exit the program."
   ]
  },
  {
   "cell_type": "code",
   "execution_count": 4,
   "id": "945beca2-75fe-430e-9143-e3e0fea8472f",
   "metadata": {
    "tags": []
   },
   "outputs": [
    {
     "name": "stdout",
     "output_type": "stream",
     "text": [
      "Shape Area Calculator\n",
      "1. Rectangle\n",
      "2. Triangle\n",
      "3. Circle\n"
     ]
    },
    {
     "name": "stdin",
     "output_type": "stream",
     "text": [
      "Enter the number of the shape you want to calculate the area for:  2\n",
      "Enter the base of the triangle:  5\n",
      "Enter the height of the triangle:  78\n"
     ]
    },
    {
     "name": "stdout",
     "output_type": "stream",
     "text": [
      "The area of the triangle is: 195.0\n"
     ]
    },
    {
     "name": "stdin",
     "output_type": "stream",
     "text": [
      "Do you want to calculate the area for another shape? (yes/no):  no\n"
     ]
    }
   ],
   "source": [
    "# Define user-defined functions for shape area calculations\n",
    "def calculate_rectangle_area(length, width):\n",
    "    return length * width\n",
    "\n",
    "def calculate_triangle_area(base, height):\n",
    "    return 0.5 * base * height\n",
    "\n",
    "def calculate_circle_area(radius):\n",
    "    return math.pi * (radius ** 2)\n",
    "\n",
    "# Function to display a menu\n",
    "def display_menu():\n",
    "    print(\"Shape Area Calculator\")\n",
    "    print(\"1. Rectangle\")\n",
    "    print(\"2. Triangle\")\n",
    "    print(\"3. Circle\")\n",
    "\n",
    "# Main program\n",
    "while True:\n",
    "    # Display the menu\n",
    "    display_menu()\n",
    "\n",
    "    # Get user's choice\n",
    "    choice = input(\"Enter the number of the shape you want to calculate the area for: \")\n",
    "\n",
    "    if choice == '1':\n",
    "        # Calculate the area of a rectangle\n",
    "        length = float(input(\"Enter the length of the rectangle: \"))\n",
    "        width = float(input(\"Enter the width of the rectangle: \"))\n",
    "        area = calculate_rectangle_area(length, width)\n",
    "        print(\"The area of the rectangle is:\", area)\n",
    "    elif choice == '2':\n",
    "        # Calculate the area of a triangle\n",
    "        base = float(input(\"Enter the base of the triangle: \"))\n",
    "        height = float(input(\"Enter the height of the triangle: \"))\n",
    "        area = calculate_triangle_area(base, height)\n",
    "        print(\"The area of the triangle is:\", area)\n",
    "    elif choice == '3':\n",
    "        # Calculate the area of a circle\n",
    "        radius = float(input(\"Enter the radius of the circle: \"))\n",
    "        area = calculate_circle_area(radius)\n",
    "        print(\"The area of the circle is:\", area)\n",
    "    else:\n",
    "        print(\"Invalid choice. Please select 1, 2, or 3.\")\n",
    "\n",
    "    another_calculation = input(\"Do you want to calculate the area for another shape? (yes/no): \")\n",
    "    if another_calculation.lower() != \"yes\":\n",
    "        break\n"
   ]
  },
  {
   "cell_type": "code",
   "execution_count": null,
   "id": "6a1b1077-77f2-4b71-ac09-8afcd84d09ba",
   "metadata": {},
   "outputs": [],
   "source": []
  }
 ],
 "metadata": {
  "kernelspec": {
   "display_name": "Python 3.9 (tensorflow)",
   "language": "python",
   "name": "tensorflow"
  },
  "language_info": {
   "codemirror_mode": {
    "name": "ipython",
    "version": 3
   },
   "file_extension": ".py",
   "mimetype": "text/x-python",
   "name": "python",
   "nbconvert_exporter": "python",
   "pygments_lexer": "ipython3",
   "version": "3.10.10"
  }
 },
 "nbformat": 4,
 "nbformat_minor": 5
}
