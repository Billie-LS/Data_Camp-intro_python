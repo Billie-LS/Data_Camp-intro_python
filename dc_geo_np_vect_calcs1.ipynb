{
 "cells": [
  {
   "cell_type": "markdown",
   "id": "03f485d1-6106-463e-94de-06b7399a5680",
   "metadata": {
    "tags": []
   },
   "source": [
    "Project\n",
    "\n",
    "    - Create a Python script that calculates and prints the area of basic shapes using user-defined functions.\n",
    "    - utilize the dictionary \n",
    "    - maps user input to lambda functions, \n",
    "    - perform the calculations using NumPy operations for vectorization.**"
   ]
  },
  {
   "cell_type": "code",
   "execution_count": 1,
   "id": "37625bf6-7686-4055-97b5-4066d3575585",
   "metadata": {},
   "outputs": [],
   "source": [
    "# imports\n",
    "import numpy as np  # import numpy to facilitate vectorization\n",
    "from typing import Dict, Tuple, List  # import for use in 'hint-type' syntax"
   ]
  },
  {
   "cell_type": "markdown",
   "id": "33968917-4337-44d1-8234-8c70c859eb1e",
   "metadata": {},
   "source": [
    "1. Define function for calculating the area of a rectangle.\n",
    "   - Input: length, width\n",
    "   - Output: area\n",
    "2. Define function for calculating the area of a triangle.\n",
    "   - Input: base, height\n",
    "   - Output: area\n",
    "3. Define function for calculating the area of a circle.\n",
    "   - Input: radius\n",
    "   - Output: area"
   ]
  },
  {
   "cell_type": "code",
   "execution_count": 2,
   "id": "6d44a0a9-7ebe-48d3-9f46-a28f45922962",
   "metadata": {},
   "outputs": [],
   "source": [
    "# Dictionary that maps user input to functions\n",
    "shape_functions: Dict[str, callable] = {\n",
    "    '1': lambda length, width: length * width,\n",
    "    '2': lambda base, height: 0.5 * base * height,\n",
    "    '3': lambda radius: np.pi * (radius ** 2),\n",
    "}"
   ]
  },
  {
   "cell_type": "code",
   "execution_count": 3,
   "id": "fcb16856-86dd-4bad-822d-f90ad9cfd096",
   "metadata": {},
   "outputs": [],
   "source": [
    "# Dictionary to store user prompts\n",
    "user_prompts: Dict[str, Tuple[str, ...]] = {\n",
    "    '1': (\"Enter the length of the rectangle: \", \"Enter the width of the rectangle: \"),\n",
    "    '2': (\"Enter the base of the triangle: \", \"Enter the height of the triangle: \"),\n",
    "    '3': (\"Enter the radius of the circle: \"),\n",
    "}"
   ]
  },
  {
   "cell_type": "markdown",
   "id": "674a9696-8a88-49a7-b365-cb58c6a67ca0",
   "metadata": {},
   "source": [
    "4. Display a menu to the user to choose a shape (rectangle, triangle, or circle)."
   ]
  },
  {
   "cell_type": "code",
   "execution_count": 4,
   "id": "3cacb0f3-bfbc-42e8-9e21-1a484861261a",
   "metadata": {},
   "outputs": [],
   "source": [
    "# Function to display a menu\n",
    "def display_menu() -> None:\n",
    "    print(\"Shape Area Calculator\\n1. Rectangle\\n2. Triangle\\n3. Circle\")"
   ]
  },
  {
   "cell_type": "code",
   "execution_count": 5,
   "id": "f890b1c3-4b9c-4471-be40-e6a869fd50e2",
   "metadata": {
    "tags": []
   },
   "outputs": [
    {
     "name": "stdout",
     "output_type": "stream",
     "text": [
      "Shape Area Calculator\n",
      "1. Rectangle\n",
      "2. Triangle\n",
      "3. Circle\n"
     ]
    },
    {
     "name": "stdin",
     "output_type": "stream",
     "text": [
      "Enter the number of the shape you want to calculate the area for:  7\n"
     ]
    },
    {
     "name": "stdout",
     "output_type": "stream",
     "text": [
      "Invalid choice. Please select 1, 2, or 3.\n"
     ]
    },
    {
     "name": "stdin",
     "output_type": "stream",
     "text": [
      "Enter the number of the shape you want to calculate the area for:  1\n",
      "Enter the length of the rectangle:  9\n",
      "Enter the width of the rectangle:  5\n"
     ]
    },
    {
     "name": "stdout",
     "output_type": "stream",
     "text": [
      "The area is: 45.00\n"
     ]
    },
    {
     "name": "stdin",
     "output_type": "stream",
     "text": [
      "Do you want to calculate the area for another shape? (yes/no):  no\n"
     ]
    }
   ],
   "source": [
    "# Main program\n",
    "while True:\n",
    "    display_menu()\n",
    "    \n",
    "    # Keep asking for input until a valid choice is made\n",
    "    while True:\n",
    "        choice: str = input(\"Enter the number of the shape you want to calculate the area for: \")\n",
    "        if choice in shape_functions:\n",
    "            break\n",
    "        else:\n",
    "            print(\"Invalid choice. Please select 1, 2, or 3.\")\n",
    "    \n",
    "    prompts: Tuple[str, ...] = user_prompts[choice]\n",
    "    inputs: List[float] = [float(input(prompt)) for prompt in prompts]\n",
    "    area: float = shape_functions[choice](*inputs)\n",
    "    print(f\"The area is: {area:.2f}\")\n",
    "    \n",
    "    another_calculation: str = input(\"Do you want to calculate the area for another shape? (yes/no): \")\n",
    "    if another_calculation.lower() != \"yes\":\n",
    "        break"
   ]
  }
 ],
 "metadata": {
  "kernelspec": {
   "display_name": "Python 3.9 (tensorflow)",
   "language": "python",
   "name": "tensorflow"
  },
  "language_info": {
   "codemirror_mode": {
    "name": "ipython",
    "version": 3
   },
   "file_extension": ".py",
   "mimetype": "text/x-python",
   "name": "python",
   "nbconvert_exporter": "python",
   "pygments_lexer": "ipython3",
   "version": "3.10.10"
  }
 },
 "nbformat": 4,
 "nbformat_minor": 5
}
